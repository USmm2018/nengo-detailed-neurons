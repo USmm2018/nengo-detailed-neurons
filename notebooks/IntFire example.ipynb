{
 "metadata": {
  "name": "",
  "signature": "sha256:b43ba5ead9fb6ebe68125c02c12f84b73eee2f0df78a2b27c90906ac808a5a98"
 },
 "nbformat": 3,
 "nbformat_minor": 0,
 "worksheets": [
  {
   "cells": [
    {
     "cell_type": "code",
     "collapsed": false,
     "input": [
      "%pylab inline"
     ],
     "language": "python",
     "metadata": {},
     "outputs": [
      {
       "output_type": "stream",
       "stream": "stdout",
       "text": [
        "Populating the interactive namespace from numpy and matplotlib\n"
       ]
      }
     ],
     "prompt_number": 9
    },
    {
     "cell_type": "code",
     "collapsed": false,
     "input": [
      "import neuron\n",
      "import nrn"
     ],
     "language": "python",
     "metadata": {},
     "outputs": [],
     "prompt_number": 10
    },
    {
     "cell_type": "heading",
     "level": 1,
     "metadata": {},
     "source": [
      "Create the Model"
     ]
    },
    {
     "cell_type": "heading",
     "level": 6,
     "metadata": {},
     "source": [
      "One LIF neuron"
     ]
    },
    {
     "cell_type": "code",
     "collapsed": false,
     "input": [
      "cell = neuron.h.IntFire2()\n",
      "cell.taum = 20\n",
      "cell.taus = 0.1\n",
      "cell.ib = 0"
     ],
     "language": "python",
     "metadata": {},
     "outputs": [],
     "prompt_number": 11
    },
    {
     "cell_type": "heading",
     "level": 6,
     "metadata": {},
     "source": [
      "Inject input"
     ]
    },
    {
     "cell_type": "code",
     "collapsed": false,
     "input": [
      "#inp = neuron.h.NetStim(0.5)\n",
      "#inp.interval = 3\n",
      "#inp.number = 3\n",
      "#inp.start = 100\n",
      "#inp.noise = 0\n",
      "\n",
      "nc = neuron.h.NetCon(None, cell)\n",
      "nc.weight[0] = 1.0"
     ],
     "language": "python",
     "metadata": {},
     "outputs": [],
     "prompt_number": 12
    },
    {
     "cell_type": "heading",
     "level": 6,
     "metadata": {},
     "source": [
      "Record Data"
     ]
    },
    {
     "cell_type": "code",
     "collapsed": false,
     "input": [
      "ts = neuron.h.Vector()\n",
      "#ts.record(neuron.h._ref_t)\n",
      "soma_voltage = neuron.h.Vector()\n",
      "soma_voltage.record(cell._ref_m)"
     ],
     "language": "python",
     "metadata": {},
     "outputs": [
      {
       "metadata": {},
       "output_type": "pyout",
       "prompt_number": 13,
       "text": [
        "1.0"
       ]
      }
     ],
     "prompt_number": 13
    },
    {
     "cell_type": "code",
     "collapsed": false,
     "input": [
      "aps = neuron.h.Vector()\n",
      "nc2 = neuron.h.NetCon(cell, None)\n",
      "nc2.record(neuron.h.ref(aps))\n",
      "#apc = neuron.h.APCount(0.5, cell)\n",
      "#apc.record(neuron.h.ref(aps))"
     ],
     "language": "python",
     "metadata": {},
     "outputs": [
      {
       "metadata": {},
       "output_type": "pyout",
       "prompt_number": 14,
       "text": [
        "0.0"
       ]
      }
     ],
     "prompt_number": 14
    },
    {
     "cell_type": "heading",
     "level": 1,
     "metadata": {},
     "source": [
      "Run the Model"
     ]
    },
    {
     "cell_type": "code",
     "collapsed": false,
     "input": [
      "neuron.init()\n",
      "nc.event(100)\n",
      "nc.event(103)\n",
      "nc.event(106)\n",
      "neuron.run(300)"
     ],
     "language": "python",
     "metadata": {},
     "outputs": [],
     "prompt_number": 19
    },
    {
     "cell_type": "code",
     "collapsed": false,
     "input": [
      "nc.event(300)\n",
      "nc.event(303)\n",
      "nc.event(306)\n",
      "neuron.run(600)"
     ],
     "language": "python",
     "metadata": {},
     "outputs": [],
     "prompt_number": 20
    },
    {
     "cell_type": "code",
     "collapsed": false,
     "input": [
      "plt.eventplot(list(aps), colors=[(0, 0, 0, 1)])\n",
      "plt.xlim(0, 350)"
     ],
     "language": "python",
     "metadata": {},
     "outputs": [
      {
       "metadata": {},
       "output_type": "pyout",
       "prompt_number": 21,
       "text": [
        "(0, 350)"
       ]
      },
      {
       "metadata": {},
       "output_type": "display_data",
       "png": "[encoded data removed]",
       "text": [
        "<matplotlib.figure.Figure at 0x2b74c10>"
       ]
      }
     ],
     "prompt_number": 21
    },
    {
     "cell_type": "code",
     "collapsed": false,
     "input": [],
     "language": "python",
     "metadata": {},
     "outputs": []
    }
   ],
   "metadata": {}
  }
 ]
}