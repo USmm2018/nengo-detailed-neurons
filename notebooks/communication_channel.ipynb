{
 "metadata": {
  "name": "",
  "signature": "sha256:9106696de90c32a1111862a276eec6ac6428f70b657dfa22fec3d99cc14a33fa"
 },
 "nbformat": 3,
 "nbformat_minor": 0,
 "worksheets": [
  {
   "cells": [
    {
     "cell_type": "code",
     "collapsed": false,
     "input": [
      "%pylab inline"
     ],
     "language": "python",
     "metadata": {},
     "outputs": [
      {
       "output_type": "stream",
       "stream": "stdout",
       "text": [
        "Populating the interactive namespace from numpy and matplotlib\n"
       ]
      }
     ],
     "prompt_number": 1
    },
    {
     "cell_type": "markdown",
     "metadata": {},
     "source": [
      "# Communication Channel"
     ]
    },
    {
     "cell_type": "markdown",
     "metadata": {},
     "source": [
      "This example demonstrates how to create a connections from one neuronal ensemble to another that behaves like a communication channel (that is, it transmits information without changing it). \n",
      "\n",
      "Network diagram:\n",
      "\n",
      "      [Input] ---> (A) ---> (B)\n",
      "\n",
      "An abstract input signal is fed into a first neuronal ensemble $A$, which then passes it on to another ensemble $B$. The result is that spiking activity in ensemble $B$ encodes the value from the Input.  "
     ]
    },
    {
     "cell_type": "markdown",
     "metadata": {},
     "source": [
      "##Step 1: Create the Network"
     ]
    },
    {
     "cell_type": "code",
     "collapsed": false,
     "input": [
      "import numpy as np\n",
      "import nengo\n",
      "from nrnengo.neurons import Compartmental\n",
      "\n",
      "# Create a 'model' object to which we can add ensembles, connections, etc.  \n",
      "model = nengo.Network(label=\"Communications Channel\")\n",
      "with model:\n",
      "    # Create an abstract input signal that oscillates as sin(t)\n",
      "    sin = nengo.Node(np.sin)\n",
      "    \n",
      "    # Create the neuronal ensembles\n",
      "    A = nengo.Ensemble(50, dimensions=1)\n",
      "    B = nengo.Ensemble(50, dimensions=1, neuron_type=Compartmental())\n",
      "    \n",
      "    # Connect the input to the first neuronal ensemble\n",
      "    nengo.Connection(sin, A)\n",
      "    \n",
      "    # Connect the first neuronal ensemble to the second (this is the communication channel)\n",
      "    solver = nengo.decoders.LstsqL2(True)\n",
      "    nengo.Connection(A, B, solver=solver)"
     ],
     "language": "python",
     "metadata": {},
     "outputs": [],
     "prompt_number": 2
    },
    {
     "cell_type": "markdown",
     "metadata": {},
     "source": [
      "## Step 2: Add Probes to Collect Data\n",
      "Even this simple model involves many quantities that change over time, such as membrane potentials of individual neurons. Typically there are so many variables in a simulation that it is not practical to store them all. If we want to plot or analyze data from the simulation we have to \"probe\" the signals of interest. "
     ]
    },
    {
     "cell_type": "code",
     "collapsed": false,
     "input": [
      "with model:\n",
      "    sin_probe = nengo.Probe(sin)\n",
      "    A_probe = nengo.Probe(A, synapse=.01)  # ensemble output \n",
      "    B_probe = nengo.Probe(B, synapse=.01)\n",
      "    spikes = nengo.Probe(B, 'spikes')\n",
      "    voltage = nengo.Probe(B, 'voltage')\n",
      "    voltageA = nengo.Probe(A, 'voltage')"
     ],
     "language": "python",
     "metadata": {},
     "outputs": [],
     "prompt_number": 3
    },
    {
     "cell_type": "markdown",
     "metadata": {},
     "source": [
      "## Step 3: Run the Model!  "
     ]
    },
    {
     "cell_type": "code",
     "collapsed": false,
     "input": [
      "sim = nengo.Simulator(model)\n",
      "%time sim.run(2)"
     ],
     "language": "python",
     "metadata": {},
     "outputs": [
      {
       "output_type": "stream",
       "stream": "stdout",
       "text": [
        "CPU times: user 1min 26s, sys: 237 ms, total: 1min 27s\n",
        "Wall time: 1min 26s\n"
       ]
      }
     ],
     "prompt_number": 4
    },
    {
     "cell_type": "markdown",
     "metadata": {},
     "source": [
      "## Step 4: Plot the Results"
     ]
    },
    {
     "cell_type": "code",
     "collapsed": false,
     "input": [
      "import matplotlib.pyplot as plt\n",
      "\n",
      "plt.figure(figsize=(9, 3))\n",
      "plt.subplot(1, 3, 1)\n",
      "plt.title(\"Input\")\n",
      "plt.plot(sim.trange(), sim.data[sin_probe])\n",
      "plt.ylim(0, 1.2)\n",
      "plt.subplot(1, 3, 2)\n",
      "plt.title(\"A\")\n",
      "plt.plot(sim.trange(), sim.data[A_probe])\n",
      "plt.ylim(0, 1.2)\n",
      "plt.subplot(1,3,3)\n",
      "plt.title(\"B\")\n",
      "plt.plot(sim.trange(), sim.data[B_probe])\n",
      "plt.ylim(0, 1.2)"
     ],
     "language": "python",
     "metadata": {},
     "outputs": [
      {
       "metadata": {},
       "output_type": "pyout",
       "prompt_number": 5,
       "text": [
        "(0, 1.2)"
       ]
      },
      {
       "metadata": {},
       "output_type": "display_data",
       "png": "[encoded data removed]",
       "text": [
        "<matplotlib.figure.Figure at 0x3b45d90>"
       ]
      }
     ],
     "prompt_number": 5
    },
    {
     "cell_type": "code",
     "collapsed": false,
     "input": [
      "print np.any(sim.data[spikes] > 0)\n",
      "print np.where(sim.data[spikes][:, 1])"
     ],
     "language": "python",
     "metadata": {},
     "outputs": [
      {
       "output_type": "stream",
       "stream": "stdout",
       "text": [
        "True\n",
        "(array([], dtype=int64),)\n"
       ]
      }
     ],
     "prompt_number": 6
    },
    {
     "cell_type": "code",
     "collapsed": false,
     "input": [
      "plt.plot(sim.trange(), sim.data[voltage])"
     ],
     "language": "python",
     "metadata": {},
     "outputs": [
      {
       "metadata": {},
       "output_type": "pyout",
       "prompt_number": 7,
       "text": [
        "[<matplotlib.lines.Line2D at 0x4398490>,\n",
        " <matplotlib.lines.Line2D at 0x4398ed0>,\n",
        " <matplotlib.lines.Line2D at 0x43984d0>,\n",
        " <matplotlib.lines.Line2D at 0x4398bd0>,\n",
        " <matplotlib.lines.Line2D at 0x4392ad0>,\n",
        " <matplotlib.lines.Line2D at 0x43923d0>,\n",
        " <matplotlib.lines.Line2D at 0x43922d0>,\n",
        " <matplotlib.lines.Line2D at 0x43a1150>,\n",
        " <matplotlib.lines.Line2D at 0x4392d90>,\n",
        " <matplotlib.lines.Line2D at 0x4392f90>,\n",
        " <matplotlib.lines.Line2D at 0x4392450>,\n",
        " <matplotlib.lines.Line2D at 0x4392910>,\n",
        " <matplotlib.lines.Line2D at 0x41fb190>,\n",
        " <matplotlib.lines.Line2D at 0x41fb650>,\n",
        " <matplotlib.lines.Line2D at 0x43926d0>,\n",
        " <matplotlib.lines.Line2D at 0x41fb690>,\n",
        " <matplotlib.lines.Line2D at 0x41fb9d0>,\n",
        " <matplotlib.lines.Line2D at 0x41fb790>,\n",
        " <matplotlib.lines.Line2D at 0x41fbb50>,\n",
        " <matplotlib.lines.Line2D at 0x41fb5d0>,\n",
        " <matplotlib.lines.Line2D at 0x41fb390>,\n",
        " <matplotlib.lines.Line2D at 0x41fb6d0>,\n",
        " <matplotlib.lines.Line2D at 0x3b58590>,\n",
        " <matplotlib.lines.Line2D at 0x3b58210>,\n",
        " <matplotlib.lines.Line2D at 0x3b583d0>,\n",
        " <matplotlib.lines.Line2D at 0x3b58510>,\n",
        " <matplotlib.lines.Line2D at 0x3b58050>,\n",
        " <matplotlib.lines.Line2D at 0x3b58b10>,\n",
        " <matplotlib.lines.Line2D at 0x3b58390>,\n",
        " <matplotlib.lines.Line2D at 0x43ac790>,\n",
        " <matplotlib.lines.Line2D at 0x43ac5d0>,\n",
        " <matplotlib.lines.Line2D at 0x43acb90>,\n",
        " <matplotlib.lines.Line2D at 0x43accd0>,\n",
        " <matplotlib.lines.Line2D at 0x43acd90>,\n",
        " <matplotlib.lines.Line2D at 0x43ac410>,\n",
        " <matplotlib.lines.Line2D at 0x3b58750>,\n",
        " <matplotlib.lines.Line2D at 0x43ac8d0>,\n",
        " <matplotlib.lines.Line2D at 0x439e810>,\n",
        " <matplotlib.lines.Line2D at 0x439ee90>,\n",
        " <matplotlib.lines.Line2D at 0x439ec50>,\n",
        " <matplotlib.lines.Line2D at 0x439e490>,\n",
        " <matplotlib.lines.Line2D at 0x439e890>,\n",
        " <matplotlib.lines.Line2D at 0x43aca50>,\n",
        " <matplotlib.lines.Line2D at 0x439e8d0>,\n",
        " <matplotlib.lines.Line2D at 0x439e310>,\n",
        " <matplotlib.lines.Line2D at 0x439e650>,\n",
        " <matplotlib.lines.Line2D at 0x43a5f50>,\n",
        " <matplotlib.lines.Line2D at 0x43a5510>,\n",
        " <matplotlib.lines.Line2D at 0x43a5150>,\n",
        " <matplotlib.lines.Line2D at 0x439edd0>]"
       ]
      },
      {
       "metadata": {},
       "output_type": "display_data",
       "png": "[encoded data removed]",
       "text": [
        "<matplotlib.figure.Figure at 0x41e8990>"
       ]
      }
     ],
     "prompt_number": 7
    },
    {
     "cell_type": "code",
     "collapsed": false,
     "input": [
      "plt.plot(sim.trange(), sim.data[voltageA])"
     ],
     "language": "python",
     "metadata": {},
     "outputs": [
      {
       "metadata": {},
       "output_type": "pyout",
       "prompt_number": 8,
       "text": [
        "[<matplotlib.lines.Line2D at 0x46f2cd0>,\n",
        " <matplotlib.lines.Line2D at 0x46f2f50>,\n",
        " <matplotlib.lines.Line2D at 0x46f61d0>,\n",
        " <matplotlib.lines.Line2D at 0x46f6390>,\n",
        " <matplotlib.lines.Line2D at 0x46f6550>,\n",
        " <matplotlib.lines.Line2D at 0x46f6710>,\n",
        " <matplotlib.lines.Line2D at 0x46f68d0>,\n",
        " <matplotlib.lines.Line2D at 0x41f7390>,\n",
        " <matplotlib.lines.Line2D at 0x46f6c50>,\n",
        " <matplotlib.lines.Line2D at 0x46f6e10>,\n",
        " <matplotlib.lines.Line2D at 0x46f6fd0>,\n",
        " <matplotlib.lines.Line2D at 0x46f71d0>,\n",
        " <matplotlib.lines.Line2D at 0x46f7390>,\n",
        " <matplotlib.lines.Line2D at 0x46f7550>,\n",
        " <matplotlib.lines.Line2D at 0x46f6ad0>,\n",
        " <matplotlib.lines.Line2D at 0x46f78d0>,\n",
        " <matplotlib.lines.Line2D at 0x46f7a90>,\n",
        " <matplotlib.lines.Line2D at 0x46f7c50>,\n",
        " <matplotlib.lines.Line2D at 0x46f7e10>,\n",
        " <matplotlib.lines.Line2D at 0x46f7fd0>,\n",
        " <matplotlib.lines.Line2D at 0x46fa1d0>,\n",
        " <matplotlib.lines.Line2D at 0x46f7750>,\n",
        " <matplotlib.lines.Line2D at 0x46fa550>,\n",
        " <matplotlib.lines.Line2D at 0x46fa710>,\n",
        " <matplotlib.lines.Line2D at 0x46fa8d0>,\n",
        " <matplotlib.lines.Line2D at 0x46faa90>,\n",
        " <matplotlib.lines.Line2D at 0x46fac50>,\n",
        " <matplotlib.lines.Line2D at 0x46fae10>,\n",
        " <matplotlib.lines.Line2D at 0x46fafd0>,\n",
        " <matplotlib.lines.Line2D at 0x46fd1d0>,\n",
        " <matplotlib.lines.Line2D at 0x46fd390>,\n",
        " <matplotlib.lines.Line2D at 0x46fd550>,\n",
        " <matplotlib.lines.Line2D at 0x46fd710>,\n",
        " <matplotlib.lines.Line2D at 0x46fd8d0>,\n",
        " <matplotlib.lines.Line2D at 0x46fda90>,\n",
        " <matplotlib.lines.Line2D at 0x46fdc50>,\n",
        " <matplotlib.lines.Line2D at 0x46fde10>,\n",
        " <matplotlib.lines.Line2D at 0x46fdfd0>,\n",
        " <matplotlib.lines.Line2D at 0x47001d0>,\n",
        " <matplotlib.lines.Line2D at 0x4700390>,\n",
        " <matplotlib.lines.Line2D at 0x4700550>,\n",
        " <matplotlib.lines.Line2D at 0x4700710>,\n",
        " <matplotlib.lines.Line2D at 0x46fdc90>,\n",
        " <matplotlib.lines.Line2D at 0x4700a90>,\n",
        " <matplotlib.lines.Line2D at 0x4700c50>,\n",
        " <matplotlib.lines.Line2D at 0x4700e10>,\n",
        " <matplotlib.lines.Line2D at 0x4700fd0>,\n",
        " <matplotlib.lines.Line2D at 0x47021d0>,\n",
        " <matplotlib.lines.Line2D at 0x4702390>,\n",
        " <matplotlib.lines.Line2D at 0x4700910>]"
       ]
      },
      {
       "metadata": {},
       "output_type": "display_data",
       "png": "[encoded data removed]",
       "text": [
        "<matplotlib.figure.Figure at 0x4215a50>"
       ]
      }
     ],
     "prompt_number": 8
    },
    {
     "cell_type": "markdown",
     "metadata": {},
     "source": [
      "These plots show the idealized sinusoidal input, and estimates of the sinusoid that are decoded from the spiking activity of neurons in ensembles A and B. \n",
      "\n",
      "## Step 5: Using a Different Input Function\n",
      "To drive the neural ensembles with different abstract inputs, it is convenient to use Python's \"Lambda Functions\". For example, try changing the `sin = nengo.Node` line to the following for higher-frequency input: \n",
      "\n",
      "    sin = nengo.Node(lambda t: np.sin(2*np.pi*t))"
     ]
    },
    {
     "cell_type": "code",
     "collapsed": false,
     "input": [],
     "language": "python",
     "metadata": {},
     "outputs": [],
     "prompt_number": 7
    }
   ],
   "metadata": {}
  }
 ]
}