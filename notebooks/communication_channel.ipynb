{
 "metadata": {
  "name": "",
  "signature": "sha256:c546540b566aa2f11ed64f1e976771da8b2331fab51bb64204a6609b69c92497"
 },
 "nbformat": 3,
 "nbformat_minor": 0,
 "worksheets": [
  {
   "cells": [
    {
     "cell_type": "code",
     "collapsed": false,
     "input": [
      "%pylab inline\n",
      "import matplotlib.pyplot as plt\n",
      "import seaborn as sns\n",
      "\n",
      "prefix = '../plots/cc_'"
     ],
     "language": "python",
     "metadata": {},
     "outputs": [],
     "prompt_number": 8
    },
    {
     "cell_type": "markdown",
     "metadata": {},
     "source": [
      "# Communication Channel"
     ]
    },
    {
     "cell_type": "markdown",
     "metadata": {},
     "source": [
      "This example demonstrates how to create a connections from one neuronal ensemble to another that behaves like a communication channel (that is, it transmits information without changing it). \n",
      "\n",
      "Network diagram:\n",
      "\n",
      "      [Input] ---> (A) ---> (B)\n",
      "\n",
      "An abstract input signal is fed into a first neuronal ensemble $A$, which then passes it on to another ensemble $B$. The result is that spiking activity in ensemble $B$ encodes the value from the Input.  "
     ]
    },
    {
     "cell_type": "markdown",
     "metadata": {},
     "source": [
      "##Step 1: Create the Network"
     ]
    },
    {
     "cell_type": "code",
     "collapsed": false,
     "input": [
      "import numpy as np\n",
      "import nengo\n",
      "from nengo.utils.distributions import Uniform\n",
      "from nrnengo.neurons import Bahr2, IntFire1\n",
      "from nrnengo.synapses import ExpSyn, FixedCurrent\n",
      "\n",
      "# Create a 'model' object to which we can add ensembles, connections, etc.  \n",
      "model = nengo.Network(label=\"Communications Channel\", seed=3145987)\n",
      "with model:\n",
      "    # Create an abstract input signal that oscillates as sin(t)\n",
      "    sin = nengo.Node(lambda x: np.sin(x))\n",
      "    \n",
      "    # Create the neuronal ensembles\n",
      "    num_A_neurons = 200\n",
      "    num_B_neurons = 50\n",
      "    A = nengo.Ensemble(num_A_neurons, dimensions=1, max_rates=Uniform(60, 80))\n",
      "    B = nengo.Ensemble(num_B_neurons, dimensions=1, neuron_type=Bahr2(), max_rates=Uniform(60, 80))\n",
      "    \n",
      "    # Connect the input to the first neuronal ensemble\n",
      "    nengo.Connection(sin, A)\n",
      "    \n",
      "    # Connect the first neuronal ensemble to the second (this is the communication channel)\n",
      "    solver = nengo.decoders.LstsqL2(True)\n",
      "    nengo.Connection(A, B, solver=solver, synapse=ExpSyn(0.005))"
     ],
     "language": "python",
     "metadata": {},
     "outputs": [],
     "prompt_number": 2
    },
    {
     "cell_type": "markdown",
     "metadata": {},
     "source": [
      "## Step 2: Add Probes to Collect Data\n",
      "Even this simple model involves many quantities that change over time, such as membrane potentials of individual neurons. Typically there are so many variables in a simulation that it is not practical to store them all. If we want to plot or analyze data from the simulation we have to \"probe\" the signals of interest. "
     ]
    },
    {
     "cell_type": "code",
     "collapsed": false,
     "input": [
      "with model:\n",
      "    sin_probe = nengo.Probe(sin)\n",
      "    A_probe = nengo.Probe(A, synapse=.01)  # ensemble output \n",
      "    B_probe = nengo.Probe(B, synapse=.01)\n",
      "    A_spikes = nengo.Probe(A, 'spikes')\n",
      "    B_spikes = nengo.Probe(B, 'spikes')\n",
      "    voltage = nengo.Probe(B, 'voltage')"
     ],
     "language": "python",
     "metadata": {},
     "outputs": [],
     "prompt_number": 3
    },
    {
     "cell_type": "markdown",
     "metadata": {},
     "source": [
      "## Step 3: Run the Model!  "
     ]
    },
    {
     "cell_type": "code",
     "collapsed": false,
     "input": [
      "sim = nengo.Simulator(model)"
     ],
     "language": "python",
     "metadata": {},
     "outputs": [],
     "prompt_number": 4
    },
    {
     "cell_type": "code",
     "collapsed": false,
     "input": [
      "%time sim.run(2 * np.pi)"
     ],
     "language": "python",
     "metadata": {},
     "outputs": [],
     "prompt_number": 5
    },
    {
     "cell_type": "code",
     "collapsed": false,
     "input": [
      "from nengo.utils.ensemble import tuning_curves_1d\n",
      "plt.plot(*tuning_curves_1d(B, sim))\n",
      "plt.xlabel(\"x\")\n",
      "plt.ylabel(\"Firing rate (1/s)\")\n",
      "plt.title(\"Approximate interpolated tuning curves\")\n",
      "plt.savefig(prefix + 'tuning_curves.pdf')"
     ],
     "language": "python",
     "metadata": {},
     "outputs": [],
     "prompt_number": 9
    },
    {
     "cell_type": "markdown",
     "metadata": {},
     "source": [
      "## Step 4: Plot the Results"
     ]
    },
    {
     "cell_type": "code",
     "collapsed": false,
     "input": [
      "plt.figure(figsize=(9, 3))\n",
      "plt.subplot(1, 3, 1)\n",
      "plt.title(\"Input\")\n",
      "plt.plot(sim.trange(), sim.data[sin_probe])\n",
      "plt.xlabel(\"t\")\n",
      "plt.xlim(0, 2 * np.pi)\n",
      "plt.ylim(-1.2, 1.2)\n",
      "plt.subplot(1, 3, 2)\n",
      "plt.title(\"A ({} standard LIF)\".format(num_A_neurons))\n",
      "plt.plot(sim.trange(), sim.data[A_probe])\n",
      "plt.xlabel(\"t\")\n",
      "plt.gca().set_yticklabels([])\n",
      "plt.xlim(0, 2 * np.pi)\n",
      "plt.ylim(-1.2, 1.2)\n",
      "plt.subplot(1,3,3)\n",
      "plt.title(\"B ({} compartmental)\".format(num_B_neurons))\n",
      "plt.plot(sim.trange(), sim.data[B_probe])\n",
      "plt.xlabel(\"t\")\n",
      "plt.gca().set_yticklabels([])\n",
      "plt.xlim(0, 2 * np.pi)\n",
      "plt.ylim(-1.2, 1.2)\n",
      "plt.savefig(prefix + 'decoded.pdf')"
     ],
     "language": "python",
     "metadata": {},
     "outputs": [],
     "prompt_number": 10
    },
    {
     "cell_type": "code",
     "collapsed": false,
     "input": [
      "dt = 1000.0\n",
      "sns.set_style('white')\n",
      "plt.figure(figsize=(18, 4))\n",
      "plt.eventplot([np.where(x)[0] / dt for x in sim.data[A_spikes].T[:50, :] if np.any(x)], colors=[(0, 0, 0, 1)], linewidth=1)\n",
      "plt.title(\"Spike raster of A population (first 50 neurons)\")\n",
      "plt.xlabel(\"t\")\n",
      "plt.ylabel(\"Neuron index\")\n",
      "plt.xlim(0, 2 * np.pi)\n",
      "plt.ylim(-0.5, 49.5)\n",
      "plt.savefig(prefix + 'spikes_A.pdf')"
     ],
     "language": "python",
     "metadata": {},
     "outputs": [],
     "prompt_number": 19
    },
    {
     "cell_type": "code",
     "collapsed": false,
     "input": [
      "dt = 1000.0\n",
      "sns.set_style('white')\n",
      "plt.figure(figsize=(18, 4))\n",
      "spikes = [np.where(x)[0] / dt for x in sim.data[B_spikes].T if np.any(x)]\n",
      "plt.eventplot(spikes, colors=[(0, 0, 0, 1)], linewidth=1)\n",
      "plt.title(\"Spike raster of B population\")\n",
      "plt.xlabel(\"t\")\n",
      "plt.ylabel(\"Neuron index\")\n",
      "plt.xlim(0, 2 * np.pi)\n",
      "plt.ylim(-0.5, len(spikes) - 0.5)\n",
      "plt.savefig(prefix + 'spikes_B.pdf')"
     ],
     "language": "python",
     "metadata": {},
     "outputs": [],
     "prompt_number": 45
    },
    {
     "cell_type": "code",
     "collapsed": false,
     "input": [
      "sns.set_style('darkgrid')\n",
      "plt.title(\"Voltage trace (soma)\")\n",
      "plt.xlabel(\"t (s)\")\n",
      "plt.ylabel(\"Membrane voltage (mV)\")\n",
      "plt.plot(sim.trange(), sim.data[voltage][:, 12])\n",
      "plt.xlim(0, 2 * np.pi)\n",
      "plt.savefig(prefix + 'voltage.pdf')"
     ],
     "language": "python",
     "metadata": {},
     "outputs": [],
     "prompt_number": 44
    },
    {
     "cell_type": "markdown",
     "metadata": {},
     "source": [
      "These plots show the idealized sinusoidal input, and estimates of the sinusoid that are decoded from the spiking activity of neurons in ensembles A and B. \n",
      "\n",
      "## Step 5: Using a Different Input Function\n",
      "To drive the neural ensembles with different abstract inputs, it is convenient to use Python's \"Lambda Functions\". For example, try changing the `sin = nengo.Node` line to the following for higher-frequency input: \n",
      "\n",
      "    sin = nengo.Node(lambda t: np.sin(2*np.pi*t))"
     ]
    },
    {
     "cell_type": "raw",
     "metadata": {},
     "source": []
    }
   ],
   "metadata": {}
  }
 ]
}