{
 "metadata": {
  "name": "",
  "signature": "sha256:4759eafe60688f6120f32db30f9867d8ae1662c4fa567bdf8dcdce4f86ed446c"
 },
 "nbformat": 3,
 "nbformat_minor": 0,
 "worksheets": [
  {
   "cells": [
    {
     "cell_type": "code",
     "collapsed": false,
     "input": [
      "%pylab inline"
     ],
     "language": "python",
     "metadata": {},
     "outputs": [],
     "prompt_number": 1
    },
    {
     "cell_type": "code",
     "collapsed": false,
     "input": [
      "import neuron\n",
      "import nrn"
     ],
     "language": "python",
     "metadata": {},
     "outputs": [],
     "prompt_number": 2
    },
    {
     "cell_type": "heading",
     "level": 1,
     "metadata": {},
     "source": [
      "Create the Model"
     ]
    },
    {
     "cell_type": "heading",
     "level": 6,
     "metadata": {},
     "source": [
      "Soma"
     ]
    },
    {
     "cell_type": "code",
     "collapsed": false,
     "input": [
      "soma = nrn.Section()\n",
      "soma.nseg = 1\n",
      "soma.diam = 18.8\n",
      "soma.L = 18.8\n",
      "soma.Ra = 123.0\n",
      "\n",
      "soma.insert('hh')\n",
      "soma.gnabar_hh = 0.25\n",
      "soma.gl_hh = 0.0001666\n",
      "soma.el_hh = -60.0"
     ],
     "language": "python",
     "metadata": {},
     "outputs": [],
     "prompt_number": 3
    },
    {
     "cell_type": "heading",
     "level": 6,
     "metadata": {},
     "source": [
      "Dendrites"
     ]
    },
    {
     "cell_type": "code",
     "collapsed": false,
     "input": [
      "dend = [nrn.Section() for i in range(2)]\n",
      "\n",
      "dend[0].diam = 3.18\n",
      "dend[0].L = 701.9\n",
      "\n",
      "dend[1].diam = 2.0\n",
      "dend[1].L = 549.1\n",
      "\n",
      "for d in dend:\n",
      "    d.nseg = 5\n",
      "    d.Ra = 123.0\n",
      "    d.insert('pas')\n",
      "    d.g_pas = 0.0001667\n",
      "    d.e_pas = -60.0\n",
      "    \n",
      "    d.connect(soma)"
     ],
     "language": "python",
     "metadata": {},
     "outputs": [],
     "prompt_number": 4
    },
    {
     "cell_type": "heading",
     "level": 6,
     "metadata": {},
     "source": [
      "Inject Current"
     ]
    },
    {
     "cell_type": "code",
     "collapsed": false,
     "input": [
      "stim = neuron.h.IClamp(0.5, soma)\n",
      "stim.delay = 100\n",
      "stim.dur = 100\n",
      "stim.amp = 0.1"
     ],
     "language": "python",
     "metadata": {},
     "outputs": [],
     "prompt_number": 5
    },
    {
     "cell_type": "heading",
     "level": 6,
     "metadata": {},
     "source": [
      "Record Data"
     ]
    },
    {
     "cell_type": "code",
     "collapsed": false,
     "input": [
      "ts = neuron.h.Vector()\n",
      "ts.record(neuron.h._ref_t)\n",
      "soma_voltage = neuron.h.Vector()\n",
      "soma_voltage.record(soma(0.5)._ref_v)"
     ],
     "language": "python",
     "metadata": {},
     "outputs": [],
     "prompt_number": 49
    },
    {
     "cell_type": "heading",
     "level": 1,
     "metadata": {},
     "source": [
      "Run the Model"
     ]
    },
    {
     "cell_type": "code",
     "collapsed": false,
     "input": [
      "neuron.init()\n",
      "neuron.run(300)"
     ],
     "language": "python",
     "metadata": {},
     "outputs": [],
     "prompt_number": 52
    },
    {
     "cell_type": "code",
     "collapsed": false,
     "input": [
      "plt.plot(ts, soma_voltage)"
     ],
     "language": "python",
     "metadata": {},
     "outputs": [],
     "prompt_number": 53
    },
    {
     "cell_type": "code",
     "collapsed": false,
     "input": [],
     "language": "python",
     "metadata": {},
     "outputs": []
    }
   ],
   "metadata": {}
  }
 ]
}